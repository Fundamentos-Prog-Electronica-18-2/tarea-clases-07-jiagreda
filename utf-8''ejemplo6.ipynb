{
  "cells": [
    {
      "metadata": {
        "trusted": true
      },
      "cell_type": "code",
      "source": "\"\"\"\nSi el usuario ingresa la opcion 1:\n   presentar la tabla de multiplicar de un numero que ingresa el usuario:\nSi el usuario ingresa la opcion 2:\n   presentar la tabla de sumar de un numero que ingrese el usuario:\nSi ingresa una opcion incorrecta:\n   presentar una cadena \"Usted ha ingresado una opcion incorrecta\"\nEjm. si es 7 la tabla quedaria asi\n\n7 * 1 = 7\n7 * 2 = 14\n...\n\n7 * 10 = 70\n\n\"\"\"\nnumero = 0\ncontador = 1\nlimite = 10\noperacion = 0\nopcion = 0\n\nopcion = input(\"Ingrese una opcion:\\n\")\nopcion = int(opcion)\nnumero = input(\"Ingrese un numero para operar:\\n\")\nnumero = int(numero)\n\n\n# declaro una variable inicializada en cadena vacia\n\ncadena_presenta = \"\"",
      "execution_count": 9,
      "outputs": [
        {
          "output_type": "stream",
          "name": "stdout",
          "text": "Ingrese una opcion:\n2\nIngrese un numero para operar:\n5\n"
        }
      ]
    },
    {
      "metadata": {
        "trusted": true
      },
      "cell_type": "code",
      "source": "if opcion == 1:\n    while contador <= limite:\n        operacion = numero * contador\n        cadena_presenta = str(numero) + \" * \" + str(contador) + \\\n        \" = \" + str(operacion)\n        print(cadena_presenta)\n        contador = contador + 1\nelse:\n    if opcion == 2:\n        while contador <= limite:\n            operacion = numero + contador\n            cadena_presenta = str(numero) + \" + \" + str(contador) + \\\n            \" = \" + str(operacion)\n            print(cadena_presenta)\n            contador = contador + 1\n    else:\n        print(\"Usted ha ingresado una opcion incorrecta\")",
      "execution_count": 10,
      "outputs": [
        {
          "output_type": "stream",
          "text": "5 + 1 = 6\n5 + 2 = 7\n5 + 3 = 8\n5 + 4 = 9\n5 + 5 = 10\n5 + 6 = 11\n5 + 7 = 12\n5 + 8 = 13\n5 + 9 = 14\n5 + 10 = 15\n",
          "name": "stdout"
        }
      ]
    },
    {
      "metadata": {
        "trusted": true
      },
      "cell_type": "code",
      "source": "",
      "execution_count": null,
      "outputs": []
    }
  ],
  "metadata": {
    "kernelspec": {
      "name": "python36",
      "display_name": "Python 3.6",
      "language": "python"
    },
    "language_info": {
      "mimetype": "text/x-python",
      "nbconvert_exporter": "python",
      "name": "python",
      "pygments_lexer": "ipython3",
      "version": "3.6.6",
      "file_extension": ".py",
      "codemirror_mode": {
        "version": 3,
        "name": "ipython"
      }
    }
  },
  "nbformat": 4,
  "nbformat_minor": 2
}
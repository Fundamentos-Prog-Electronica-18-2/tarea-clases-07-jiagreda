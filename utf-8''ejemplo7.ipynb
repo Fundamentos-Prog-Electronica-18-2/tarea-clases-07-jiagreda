{
  "cells": [
    {
      "metadata": {
        "trusted": true
      },
      "cell_type": "code",
      "source": "\"\"\"\nPresentar el prome de estaturas de un conjunto de estudiantes, considerar:\n    \n    El usuario pregunta cuantas estaturas se requiere ingresar.\n    Al final se deber presentar el promedio de la estaturas previamente ingresadas\n\n\"\"\"\nestatura = 0\ncontador = 1\nlimite_estaturas = 10\nsuma_estaturas = 0\npromedio_estaturas = 0\n\n\nlimite_estaturas = input(\"Ingrese una numero de estaturas para trabajar:\\n\")\nlimite_estaturas = int(limite_estaturas)\n\n\n# declaro una variable inicializada en cadena vacia\n\ncadena_presenta = \"\"",
      "execution_count": 29,
      "outputs": [
        {
          "output_type": "stream",
          "name": "stdout",
          "text": "Ingrese una numero de estaturas para trabajar:\n5\n"
        }
      ]
    },
    {
      "metadata": {
        "trusted": true
      },
      "cell_type": "code",
      "source": "while contador <= limite_estaturas:\n    estatura = input(\"Ingrese estatura:\\n\")\n    estatura = float(estatura)\n    \n    suma_estaturas = suma_estaturas + estatura\n    contador = contador + 1\npromedio_estaturas = suma_estaturas / limite_estaturas\ncadena_presenta = \"El promedio de las estaturas es: \"+ str(promedio_estaturas)\nprint (cadena_presenta)",
      "execution_count": 30,
      "outputs": [
        {
          "output_type": "stream",
          "name": "stdout",
          "text": "Ingrese estatura:\n1.5\nIngrese estatura:\n1.6\nIngrese estatura:\n1.7\nIngrese estatura:\n1.8\nIngrese estatura:\n1.9\nEl promedio de las estaturas es: 1.7\n"
        }
      ]
    },
    {
      "metadata": {
        "trusted": true
      },
      "cell_type": "code",
      "source": "",
      "execution_count": null,
      "outputs": []
    }
  ],
  "metadata": {
    "kernelspec": {
      "name": "python36",
      "display_name": "Python 3.6",
      "language": "python"
    },
    "language_info": {
      "mimetype": "text/x-python",
      "nbconvert_exporter": "python",
      "name": "python",
      "pygments_lexer": "ipython3",
      "version": "3.6.6",
      "file_extension": ".py",
      "codemirror_mode": {
        "version": 3,
        "name": "ipython"
      }
    }
  },
  "nbformat": 4,
  "nbformat_minor": 2
}
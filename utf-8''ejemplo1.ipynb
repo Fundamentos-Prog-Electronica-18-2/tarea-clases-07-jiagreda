{
  "cells": [
    {
      "metadata": {
        "trusted": true
      },
      "cell_type": "code",
      "source": "nombre = \"Hola mundo\"\nedad = 18\n",
      "execution_count": 15,
      "outputs": []
    },
    {
      "metadata": {
        "trusted": true
      },
      "cell_type": "code",
      "source": "print(nombre)",
      "execution_count": 2,
      "outputs": [
        {
          "output_type": "stream",
          "text": "Hola mundo\n",
          "name": "stdout"
        }
      ]
    },
    {
      "metadata": {
        "trusted": true
      },
      "cell_type": "code",
      "source": "print(edad)",
      "execution_count": 5,
      "outputs": [
        {
          "output_type": "stream",
          "text": "10\n",
          "name": "stdout"
        }
      ]
    },
    {
      "metadata": {
        "trusted": true
      },
      "cell_type": "code",
      "source": "edad = input(\"Ingresar por favor su edad:\\n\")\nedad = int(edad)",
      "execution_count": null,
      "outputs": []
    },
    {
      "metadata": {
        "trusted": true
      },
      "cell_type": "code",
      "source": "mensaje1 = \"Usted puede pasar\"\nmensaje2 = \"Usted no puede pasar\"",
      "execution_count": 10,
      "outputs": []
    },
    {
      "metadata": {
        "trusted": true
      },
      "cell_type": "code",
      "source": "if edad >= 18:\n    print(mensaje1)\nelse:\n    print(mensaje2)\nprint(\"no hay mas datos que presentar\")",
      "execution_count": 16,
      "outputs": [
        {
          "output_type": "stream",
          "text": "Usted puede pasar\nno hay mas datos que presentar\n",
          "name": "stdout"
        }
      ]
    },
    {
      "metadata": {
        "trusted": true
      },
      "cell_type": "code",
      "source": "",
      "execution_count": null,
      "outputs": []
    }
  ],
  "metadata": {
    "kernelspec": {
      "name": "python36",
      "display_name": "Python 3.6",
      "language": "python"
    },
    "language_info": {
      "mimetype": "text/x-python",
      "nbconvert_exporter": "python",
      "name": "python",
      "pygments_lexer": "ipython3",
      "version": "3.6.6",
      "file_extension": ".py",
      "codemirror_mode": {
        "version": 3,
        "name": "ipython"
      }
    }
  },
  "nbformat": 4,
  "nbformat_minor": 2
}
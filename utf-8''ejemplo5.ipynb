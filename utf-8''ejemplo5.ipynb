{
  "cells": [
    {
      "metadata": {
        "trusted": true
      },
      "cell_type": "code",
      "source": "\"\"\"\npresentar la tabla de multiplicar de un numero que ingresa el usuario:\nEjm. si es 7 la tabla quedaria asi\n\n7 * 1 = 7\n7 * 2 = 14\n...\n\n7 * 10 = 70\n\n\"\"\"\nnumero = 7\ncontador = 1\nlimite = 10\noperacion = 0\n\n# declaro una variable inicializada en cadena vacia\n\ncadena_presenta = \"\"",
      "execution_count": 5,
      "outputs": []
    },
    {
      "metadata": {
        "trusted": true
      },
      "cell_type": "code",
      "source": "while contador <= limite:\n    operacion = numero * contador\n    cadena_presenta = str(numero) + \" * \" + str(contador) + \\\n    \" = \" + str(operacion)\n    print(cadena_presenta)\n    contador = contador + 1",
      "execution_count": 6,
      "outputs": [
        {
          "output_type": "stream",
          "text": "7 * 1 = 7\n7 * 2 = 14\n7 * 3 = 21\n7 * 4 = 28\n7 * 5 = 35\n7 * 6 = 42\n7 * 7 = 49\n7 * 8 = 56\n7 * 9 = 63\n7 * 10 = 70\n",
          "name": "stdout"
        }
      ]
    },
    {
      "metadata": {
        "trusted": true
      },
      "cell_type": "code",
      "source": "",
      "execution_count": null,
      "outputs": []
    }
  ],
  "metadata": {
    "kernelspec": {
      "name": "python36",
      "display_name": "Python 3.6",
      "language": "python"
    },
    "language_info": {
      "mimetype": "text/x-python",
      "nbconvert_exporter": "python",
      "name": "python",
      "pygments_lexer": "ipython3",
      "version": "3.6.6",
      "file_extension": ".py",
      "codemirror_mode": {
        "version": 3,
        "name": "ipython"
      }
    }
  },
  "nbformat": 4,
  "nbformat_minor": 2
}